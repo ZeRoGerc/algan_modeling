{
 "cells": [
  {
   "cell_type": "markdown",
   "metadata": {
    "deletable": true,
    "editable": true
   },
   "source": [
    "# Моделирование роста монокристаллического твердого раствора $Al_xGa_{1-x}N$ методом хлоридной эпитаксии\n"
   ]
  },
  {
   "cell_type": "markdown",
   "metadata": {
    "deletable": true,
    "editable": true
   },
   "source": [
    "## Жолус Артем М3339"
   ]
  },
  {
   "cell_type": "code",
   "execution_count": 1,
   "metadata": {
    "collapsed": false,
    "deletable": true,
    "editable": true
   },
   "outputs": [],
   "source": [
    "import numpy as np\n",
    "import pandas as pd\n",
    "import scipy as sp\n",
    "import scipy.linalg\n",
    "import sympy as sm\n",
    "from tqdm import tqdm\n",
    "from ggplot import *\n",
    "import matplotlib.pyplot as plt\n",
    "import matplotlib\n",
    "from itertools import product\n",
    "from pylab import rcParams\n",
    "\n",
    "# Для тестов\n",
    "def is_close(a, b, rel_tol=1e-06, abs_tol=0.0):\n",
    "    return abs(a-b) <= max(rel_tol * max(abs(a), abs(b)), abs_tol)"
   ]
  },
  {
   "cell_type": "code",
   "execution_count": 2,
   "metadata": {
    "collapsed": false,
    "deletable": true,
    "editable": true
   },
   "outputs": [
    {
     "data": {
      "text/html": [
       "<div>\n",
       "<table border=\"1\" class=\"dataframe\">\n",
       "  <thead>\n",
       "    <tr style=\"text-align: right;\">\n",
       "      <th></th>\n",
       "      <th>Phase</th>\n",
       "      <th>T1</th>\n",
       "      <th>T2</th>\n",
       "      <th>H</th>\n",
       "      <th>f1</th>\n",
       "      <th>f2</th>\n",
       "      <th>f3</th>\n",
       "      <th>f4</th>\n",
       "      <th>f5</th>\n",
       "      <th>f6</th>\n",
       "      <th>f7</th>\n",
       "      <th>mu</th>\n",
       "      <th>sigma</th>\n",
       "      <th>epsil</th>\n",
       "      <th>Comment</th>\n",
       "    </tr>\n",
       "    <tr>\n",
       "      <th></th>\n",
       "      <th></th>\n",
       "      <th></th>\n",
       "      <th></th>\n",
       "      <th></th>\n",
       "      <th></th>\n",
       "      <th></th>\n",
       "      <th></th>\n",
       "      <th></th>\n",
       "      <th></th>\n",
       "      <th></th>\n",
       "      <th></th>\n",
       "      <th></th>\n",
       "      <th></th>\n",
       "      <th></th>\n",
       "      <th></th>\n",
       "    </tr>\n",
       "  </thead>\n",
       "  <tbody>\n",
       "    <tr>\n",
       "      <th>AlCl</th>\n",
       "      <td>g</td>\n",
       "      <td>298.15</td>\n",
       "      <td>3000.00</td>\n",
       "      <td>-51032.0</td>\n",
       "      <td>318.9948</td>\n",
       "      <td>36.946260</td>\n",
       "      <td>-0.001226</td>\n",
       "      <td>1.188174</td>\n",
       "      <td>5.638541</td>\n",
       "      <td>-5.066135</td>\n",
       "      <td>5.219347</td>\n",
       "      <td>62.4345</td>\n",
       "      <td>3.580</td>\n",
       "      <td>932.00</td>\n",
       "      <td>1,2</td>\n",
       "    </tr>\n",
       "    <tr>\n",
       "      <th>AlCl2</th>\n",
       "      <td>g</td>\n",
       "      <td>298.15</td>\n",
       "      <td>3000.00</td>\n",
       "      <td>-259000.0</td>\n",
       "      <td>427.2137</td>\n",
       "      <td>56.564090</td>\n",
       "      <td>-0.002961</td>\n",
       "      <td>1.893842</td>\n",
       "      <td>12.400720</td>\n",
       "      <td>-22.654410</td>\n",
       "      <td>21.298980</td>\n",
       "      <td>97.8875</td>\n",
       "      <td>5.300</td>\n",
       "      <td>825.00</td>\n",
       "      <td>1,2,55</td>\n",
       "    </tr>\n",
       "    <tr>\n",
       "      <th>AlCl3</th>\n",
       "      <td>g</td>\n",
       "      <td>298.15</td>\n",
       "      <td>3000.00</td>\n",
       "      <td>-584100.0</td>\n",
       "      <td>511.8114</td>\n",
       "      <td>81.150420</td>\n",
       "      <td>-0.004835</td>\n",
       "      <td>2.752097</td>\n",
       "      <td>13.400780</td>\n",
       "      <td>-21.280010</td>\n",
       "      <td>16.928680</td>\n",
       "      <td>133.3405</td>\n",
       "      <td>5.130</td>\n",
       "      <td>472.00</td>\n",
       "      <td>1,2</td>\n",
       "    </tr>\n",
       "    <tr>\n",
       "      <th>GaCl</th>\n",
       "      <td>g</td>\n",
       "      <td>298.15</td>\n",
       "      <td>3000.00</td>\n",
       "      <td>-70553.0</td>\n",
       "      <td>332.2718</td>\n",
       "      <td>37.110520</td>\n",
       "      <td>-0.000746</td>\n",
       "      <td>1.160651</td>\n",
       "      <td>4.891346</td>\n",
       "      <td>-4.467591</td>\n",
       "      <td>5.506236</td>\n",
       "      <td>105.1730</td>\n",
       "      <td>3.696</td>\n",
       "      <td>348.20</td>\n",
       "      <td>1</td>\n",
       "    </tr>\n",
       "    <tr>\n",
       "      <th>GaCl2</th>\n",
       "      <td>g</td>\n",
       "      <td>298.15</td>\n",
       "      <td>3000.00</td>\n",
       "      <td>-241238.0</td>\n",
       "      <td>443.2976</td>\n",
       "      <td>57.745845</td>\n",
       "      <td>-0.002265</td>\n",
       "      <td>1.875554</td>\n",
       "      <td>3.661860</td>\n",
       "      <td>-9.356338</td>\n",
       "      <td>15.882450</td>\n",
       "      <td>140.6260</td>\n",
       "      <td>4.293</td>\n",
       "      <td>465.00</td>\n",
       "      <td>1</td>\n",
       "    </tr>\n",
       "    <tr>\n",
       "      <th>GaCl3</th>\n",
       "      <td>g</td>\n",
       "      <td>298.15</td>\n",
       "      <td>3000.00</td>\n",
       "      <td>-431573.0</td>\n",
       "      <td>526.8113</td>\n",
       "      <td>82.033550</td>\n",
       "      <td>-0.003486</td>\n",
       "      <td>2.685592</td>\n",
       "      <td>8.278878</td>\n",
       "      <td>-14.567800</td>\n",
       "      <td>12.889900</td>\n",
       "      <td>176.0800</td>\n",
       "      <td>5.034</td>\n",
       "      <td>548.24</td>\n",
       "      <td>1</td>\n",
       "    </tr>\n",
       "    <tr>\n",
       "      <th>NH3</th>\n",
       "      <td>g</td>\n",
       "      <td>298.15</td>\n",
       "      <td>3000.00</td>\n",
       "      <td>-45940.0</td>\n",
       "      <td>231.1183</td>\n",
       "      <td>20.522220</td>\n",
       "      <td>0.000716</td>\n",
       "      <td>0.767724</td>\n",
       "      <td>244.629600</td>\n",
       "      <td>-251.690000</td>\n",
       "      <td>146.694700</td>\n",
       "      <td>17.0310</td>\n",
       "      <td>3.000</td>\n",
       "      <td>300.00</td>\n",
       "      <td>26,1</td>\n",
       "    </tr>\n",
       "    <tr>\n",
       "      <th>H2</th>\n",
       "      <td>g</td>\n",
       "      <td>298.15</td>\n",
       "      <td>3000.00</td>\n",
       "      <td>0.0</td>\n",
       "      <td>205.5368</td>\n",
       "      <td>29.504870</td>\n",
       "      <td>0.000168</td>\n",
       "      <td>0.860656</td>\n",
       "      <td>-14.953120</td>\n",
       "      <td>78.189550</td>\n",
       "      <td>-82.789810</td>\n",
       "      <td>2.0160</td>\n",
       "      <td>2.930</td>\n",
       "      <td>34.10</td>\n",
       "      <td>4,1</td>\n",
       "    </tr>\n",
       "    <tr>\n",
       "      <th>HCl</th>\n",
       "      <td>g</td>\n",
       "      <td>298.15</td>\n",
       "      <td>3000.00</td>\n",
       "      <td>-92310.0</td>\n",
       "      <td>243.9878</td>\n",
       "      <td>23.159840</td>\n",
       "      <td>0.001820</td>\n",
       "      <td>0.614738</td>\n",
       "      <td>51.166040</td>\n",
       "      <td>-36.895020</td>\n",
       "      <td>9.174252</td>\n",
       "      <td>36.4610</td>\n",
       "      <td>2.737</td>\n",
       "      <td>167.10</td>\n",
       "      <td>1</td>\n",
       "    </tr>\n",
       "    <tr>\n",
       "      <th>N2</th>\n",
       "      <td>g</td>\n",
       "      <td>298.15</td>\n",
       "      <td>3000.00</td>\n",
       "      <td>0.0</td>\n",
       "      <td>242.8156</td>\n",
       "      <td>21.474670</td>\n",
       "      <td>0.001749</td>\n",
       "      <td>0.591004</td>\n",
       "      <td>81.084970</td>\n",
       "      <td>-103.626500</td>\n",
       "      <td>71.307750</td>\n",
       "      <td>28.0135</td>\n",
       "      <td>3.798</td>\n",
       "      <td>71.40</td>\n",
       "      <td>1</td>\n",
       "    </tr>\n",
       "    <tr>\n",
       "      <th>Al</th>\n",
       "      <td>s</td>\n",
       "      <td>298.15</td>\n",
       "      <td>933.61</td>\n",
       "      <td>0.0</td>\n",
       "      <td>172.8289</td>\n",
       "      <td>50.518060</td>\n",
       "      <td>-0.004118</td>\n",
       "      <td>1.476107</td>\n",
       "      <td>-458.127900</td>\n",
       "      <td>2105.750000</td>\n",
       "      <td>-4168.337000</td>\n",
       "      <td>26.9815</td>\n",
       "      <td>NaN</td>\n",
       "      <td>NaN</td>\n",
       "      <td>1</td>\n",
       "    </tr>\n",
       "    <tr>\n",
       "      <th>Ga</th>\n",
       "      <td>l</td>\n",
       "      <td>302.92</td>\n",
       "      <td>2000.00</td>\n",
       "      <td>0.0</td>\n",
       "      <td>125.9597</td>\n",
       "      <td>26.031070</td>\n",
       "      <td>0.001178</td>\n",
       "      <td>0.139760</td>\n",
       "      <td>-0.569843</td>\n",
       "      <td>0.047230</td>\n",
       "      <td>7.212525</td>\n",
       "      <td>69.7230</td>\n",
       "      <td>NaN</td>\n",
       "      <td>NaN</td>\n",
       "      <td>1,100</td>\n",
       "    </tr>\n",
       "    <tr>\n",
       "      <th>AlN</th>\n",
       "      <td>s</td>\n",
       "      <td>298.15</td>\n",
       "      <td>3000.00</td>\n",
       "      <td>-319000.0</td>\n",
       "      <td>123.1132</td>\n",
       "      <td>44.980920</td>\n",
       "      <td>-0.007345</td>\n",
       "      <td>1.861070</td>\n",
       "      <td>31.396260</td>\n",
       "      <td>-49.921390</td>\n",
       "      <td>81.220380</td>\n",
       "      <td>40.9880</td>\n",
       "      <td>NaN</td>\n",
       "      <td>NaN</td>\n",
       "      <td>2</td>\n",
       "    </tr>\n",
       "    <tr>\n",
       "      <th>GaN</th>\n",
       "      <td>s</td>\n",
       "      <td>298.15</td>\n",
       "      <td>2000.00</td>\n",
       "      <td>-114000.0</td>\n",
       "      <td>160.2647</td>\n",
       "      <td>52.863510</td>\n",
       "      <td>-0.007991</td>\n",
       "      <td>2.113389</td>\n",
       "      <td>1.313428</td>\n",
       "      <td>-2.441129</td>\n",
       "      <td>1.945731</td>\n",
       "      <td>83.7300</td>\n",
       "      <td>NaN</td>\n",
       "      <td>NaN</td>\n",
       "      <td>2</td>\n",
       "    </tr>\n",
       "  </tbody>\n",
       "</table>\n",
       "</div>"
      ],
      "text/plain": [
       "      Phase      T1       T2         H        f1         f2        f3  \\\n",
       "                                                                        \n",
       "AlCl      g  298.15  3000.00  -51032.0  318.9948  36.946260 -0.001226   \n",
       "AlCl2     g  298.15  3000.00 -259000.0  427.2137  56.564090 -0.002961   \n",
       "AlCl3     g  298.15  3000.00 -584100.0  511.8114  81.150420 -0.004835   \n",
       "GaCl      g  298.15  3000.00  -70553.0  332.2718  37.110520 -0.000746   \n",
       "GaCl2     g  298.15  3000.00 -241238.0  443.2976  57.745845 -0.002265   \n",
       "GaCl3     g  298.15  3000.00 -431573.0  526.8113  82.033550 -0.003486   \n",
       "NH3       g  298.15  3000.00  -45940.0  231.1183  20.522220  0.000716   \n",
       "H2        g  298.15  3000.00       0.0  205.5368  29.504870  0.000168   \n",
       "HCl       g  298.15  3000.00  -92310.0  243.9878  23.159840  0.001820   \n",
       "N2        g  298.15  3000.00       0.0  242.8156  21.474670  0.001749   \n",
       "Al        s  298.15   933.61       0.0  172.8289  50.518060 -0.004118   \n",
       "Ga        l  302.92  2000.00       0.0  125.9597  26.031070  0.001178   \n",
       "AlN       s  298.15  3000.00 -319000.0  123.1132  44.980920 -0.007345   \n",
       "GaN       s  298.15  2000.00 -114000.0  160.2647  52.863510 -0.007991   \n",
       "\n",
       "             f4          f5           f6           f7        mu  sigma  \\\n",
       "                                                                         \n",
       "AlCl   1.188174    5.638541    -5.066135     5.219347   62.4345  3.580   \n",
       "AlCl2  1.893842   12.400720   -22.654410    21.298980   97.8875  5.300   \n",
       "AlCl3  2.752097   13.400780   -21.280010    16.928680  133.3405  5.130   \n",
       "GaCl   1.160651    4.891346    -4.467591     5.506236  105.1730  3.696   \n",
       "GaCl2  1.875554    3.661860    -9.356338    15.882450  140.6260  4.293   \n",
       "GaCl3  2.685592    8.278878   -14.567800    12.889900  176.0800  5.034   \n",
       "NH3    0.767724  244.629600  -251.690000   146.694700   17.0310  3.000   \n",
       "H2     0.860656  -14.953120    78.189550   -82.789810    2.0160  2.930   \n",
       "HCl    0.614738   51.166040   -36.895020     9.174252   36.4610  2.737   \n",
       "N2     0.591004   81.084970  -103.626500    71.307750   28.0135  3.798   \n",
       "Al     1.476107 -458.127900  2105.750000 -4168.337000   26.9815    NaN   \n",
       "Ga     0.139760   -0.569843     0.047230     7.212525   69.7230    NaN   \n",
       "AlN    1.861070   31.396260   -49.921390    81.220380   40.9880    NaN   \n",
       "GaN    2.113389    1.313428    -2.441129     1.945731   83.7300    NaN   \n",
       "\n",
       "        epsil Comment  \n",
       "                       \n",
       "AlCl   932.00     1,2  \n",
       "AlCl2  825.00  1,2,55  \n",
       "AlCl3  472.00     1,2  \n",
       "GaCl   348.20       1  \n",
       "GaCl2  465.00       1  \n",
       "GaCl3  548.24       1  \n",
       "NH3    300.00    26,1  \n",
       "H2      34.10     4,1  \n",
       "HCl    167.10       1  \n",
       "N2      71.40       1  \n",
       "Al        NaN       1  \n",
       "Ga        NaN   1,100  \n",
       "AlN       NaN       2  \n",
       "GaN       NaN       2  "
      ]
     },
     "execution_count": 2,
     "metadata": {},
     "output_type": "execute_result"
    }
   ],
   "source": [
    "row_data = pd.read_csv('q.csv', sep=';', \n",
    "                       index_col=False, \n",
    "                       names=[\"\", \"Phase\", \"T1\", \"T2\", \"H\", \"f1\", \"f2\", \"f3\", \"f4\", \"f5\", \"f6\", \"f7\", \n",
    "                              \"mu\", \"sigma\", \"epsil\", \"Comment\"])\n",
    "row_data.set_index('', inplace = True)\n",
    "row_data"
   ]
  },
  {
   "cell_type": "code",
   "execution_count": 3,
   "metadata": {
    "collapsed": false,
    "deletable": true,
    "editable": true
   },
   "outputs": [
    {
     "name": "stdout",
     "output_type": "stream",
     "text": [
      "2.27702386893e+30\n",
      "6.3155395805e-40\n",
      "4.80309849033e-309\n",
      "492253.458522\n",
      "5.19845126314e-32\n",
      "1.99523068921e-150\n",
      "86699219.3922\n",
      "5.44646362935e-44\n"
     ]
    }
   ],
   "source": [
    "# Constants\n",
    "R = 8.314 # Дж/(моль*К)\n",
    "\n",
    "# Распределение веществ по твердым, жидким и газообазным\n",
    "solid = {'Al', 'AlN', 'GaN'}\n",
    "liquid = {'Ga'}\n",
    "gas = {'AlCl', 'AlCl2', 'AlCl3', 'GaCl', 'GaCl2', 'GaCl3', 'NH3', 'H2', 'HCl', 'N2'}\n",
    "\n",
    "\"\"\" Коэффициенты диффузии (м2/сек) для газообразных компонент\n",
    "ind - 'AlCl', 'GaN, ... \n",
    "t - температура в К\n",
    "p - полное давление в системе\n",
    "\"\"\"\n",
    "def calcDGas(ind, t, p):\n",
    "    assert (ind in gas), \"This function could caclulate D only for gaseous substance\"\n",
    "    \n",
    "    numerator = 2.628 * 10**(-2) * t**(3/2)\n",
    "    \n",
    "    d_ind = row_data.loc[ind]\n",
    "    d_N2 = row_data.loc['N2']\n",
    "    \n",
    "    sigma = (d_ind.sigma + d_N2.sigma) / 2\n",
    "    epsil = (d_ind.epsil * d_N2.epsil)**(1/2)\n",
    "    mu = (2 * d_ind.mu * d_N2.mu) / (d_ind.mu + d_N2.mu)\n",
    "    omega = 1.074 * (t / epsil)**(-0.1604)\n",
    "    \n",
    "    return numerator / (p * omega * mu**(1/2))\n",
    "\n",
    "\n",
    "\"\"\"\n",
    "Φ для расчета энергии Гиббса\n",
    "ind - 'AlCl', 'GaN, ... \n",
    "t - температура в К\n",
    "\"\"\"\n",
    "def calcPhi(ind, t):\n",
    "    data = row_data.loc[ind]\n",
    "    x = t / 10**4\n",
    "    \n",
    "    return data.f1 + data.f2 * np.log(x) + data.f3 / x**2 + data.f4 / x + data.f5 * x + data.f6 * x**2 + data.f7 * x**3\n",
    "   \n",
    "    \n",
    "\"\"\"\n",
    "Энергия Гиббса\n",
    "ind - 'AlCl', 'GaN, ... \n",
    "t - температура в К\n",
    "\"\"\"\n",
    "def calcG(ind, t):\n",
    "    data = row_data.loc[ind]\n",
    "    return data.H - calcPhi(ind, t) * t\n",
    "\n",
    "Pa = 100000 # атмосферное давление\n",
    "\n",
    "\n",
    "def calcK1(t):\n",
    "    deltaG1 = 2 * calcG('Al', t) + 2 * calcG('HCl', t) - 2 * calcG('AlCl', t) - calcG('H2', t)\n",
    "    return np.exp(-deltaG1 / (R * t)) / Pa\n",
    "\n",
    "\n",
    "def calcK2(t):\n",
    "    deltaG2 = calcG('Al', t) + 2 * calcG('HCl', t) - calcG('AlCl2', t) - calcG('H2', t)\n",
    "    return np.exp(-deltaG2 / (R * t))\n",
    "\n",
    "\n",
    "def calcK3(t):\n",
    "    deltaG3 = calcG('Al', t) - 2 * calcG('AlCl3', t) - 3 * calcG('H2', t) + 6 * calcG('HCl', t)\n",
    "    return np.exp(-deltaG3 / (R * t)) * Pa\n",
    "\n",
    "\n",
    "def calcK4(t):\n",
    "    deltaG4 = calcG('Ga', t) + 2 * calcG('HCl', t) - 2 * calcG('GaCl', t) - calcG('H2', t)\n",
    "    return np.exp(-deltaG4 / (R * t)) / Pa\n",
    "\n",
    "\n",
    "def calcK5(t):\n",
    "    deltaG5 = calcG('GaCl2', t) + calcG('H2', t) - 2 * calcG('HCl', t) - calcG('Ga', t)\n",
    "    return np.exp(deltaG5 / (R * t))\n",
    "\n",
    "\n",
    "def calcK6(t):\n",
    "    deltaG6 = 2 * calcG('GaCl3', t) + 3 * calcG('H2', t) - 6 * calcG('HCl', t) - 2 * calcG('Ga', t)\n",
    "    return np.exp(deltaG6 / (R * t)) * Pa\n",
    "\n",
    "\n",
    "def calcK9(t):\n",
    "    deltaG9 = calcG('AlCl3', t) + calcG('NH3', t) - calcG('AlN', t) - 3 * calcG('HCl', t)\n",
    "    return np.exp(-deltaG9 / (R * t)) / Pa\n",
    "\n",
    "\n",
    "def calcK10(t):\n",
    "    deltaG10 = calcG('GaCl', t) + calcG('NH3', t) - calcG('HCl', t) - calcG('H2', t) - calcG('GaN', t)\n",
    "    return np.exp(-deltaG10 / (R * t))\n",
    "\n",
    "\n",
    "print(calcK1(100))\n",
    "print(calcK2(100))\n",
    "print(calcK3(100))\n",
    "print(calcK4(100))\n",
    "print(calcK5(100))\n",
    "print(calcK6(100))\n",
    "print(calcK9(100))\n",
    "print(calcK10(100))"
   ]
  },
  {
   "cell_type": "markdown",
   "metadata": {
    "deletable": true,
    "editable": true
   },
   "source": [
    "# Первое задание"
   ]
  },
  {
   "cell_type": "code",
   "execution_count": 4,
   "metadata": {
    "collapsed": true,
    "deletable": true,
    "editable": true
   },
   "outputs": [],
   "source": [
    "def newton_solve(system, jacobian, variables, epsilon=1e-9):\n",
    "    # TODO: think about gaussian std\n",
    "    x = np.random.uniform(0.1, 1., len(variables)).tolist()\n",
    "    delta = 1\n",
    "    nstep = 0\n",
    "    while np.linalg.norm(delta) > epsilon:\n",
    "        delta = sp.linalg.lu_solve(sp.linalg.lu_factor(jacobian(*x)), -system(*x))\n",
    "        x = delta.flatten() + x\n",
    "        nstep += 1\n",
    "    # evaluate error: residual sum of absulute values F(x)\n",
    "    rsa = np.abs(system(*x.tolist())).sum()\n",
    "    return x, rsa, nstep"
   ]
  },
  {
   "cell_type": "code",
   "execution_count": 5,
   "metadata": {
    "collapsed": false,
    "deletable": true,
    "editable": true
   },
   "outputs": [
    {
     "name": "stdout",
     "output_type": "stream",
     "text": [
      "One of solutions:\n"
     ]
    },
    {
     "data": {
      "text/plain": [
       "{p_AlCl2: 0.00015128460027242574,\n",
       " p_AlCl3: 4379.423170250041,\n",
       " p_AlCl: 0.0038036484966620125,\n",
       " p_HCl: 0.0001284935761375104,\n",
       " p_H2: 1516.5792358713466}"
      ]
     },
     "execution_count": 5,
     "metadata": {},
     "output_type": "execute_result"
    }
   ],
   "source": [
    "\"\"\"\n",
    "Парциальные давления компонент вне диффузионного пограничного слоя (Па)\n",
    "PS Даны в условии поэтому дефайним только для этого задания\n",
    "ind - 'AlCl', 'GaN, ... \n",
    "\"\"\"\n",
    "def first_calcPg(ind):\n",
    "    if ind == 'AlCl' or ind == 'AlCl2' or ind == 'AlCl3' or ind == 'H2':\n",
    "        return 0\n",
    "    if ind == 'HCl':\n",
    "        return 10000\n",
    "    if ind == 'N2':\n",
    "        return 90000\n",
    "    raise Exception('Unexpected substance: ' + ind)\n",
    "\n",
    "    \n",
    "def first_make_system(pg_HCl=10000.0, p=100000, T=(350.0 + 273.0)):\n",
    "    p_AlCl, p_AlCl2, p_AlCl3, p_HCl, p_H2 = first_variables = sm.symbols('p_AlCl, p_AlCl2, p_AlCl3, p_HCl, p_H2')\n",
    "    k1 = calcK1(T)\n",
    "    k2 = calcK2(T)\n",
    "    k3 = calcK3(T)\n",
    "    d_HCl = calcDGas('HCl', T, p)\n",
    "    d_H2 = calcDGas('H2', T, p)\n",
    "    d_AlCl = calcDGas('AlCl', T, p)\n",
    "    d_AlCl2 = calcDGas('AlCl2', T, p)\n",
    "    d_AlCl3 = calcDGas('AlCl3', T, p)\n",
    "    equations = []\n",
    "    equations.append(p_HCl ** 2 - k1 * p_AlCl ** 2 * p_H2)\n",
    "    equations.append(p_HCl ** 2 - k2 * p_AlCl2 * p_H2)\n",
    "    equations.append(p_HCl ** 6 - k3 * p_AlCl3 ** 2 * p_H2 ** 3)\n",
    "    equations.append(d_HCl * (p_HCl - pg_HCl) + 2 * d_H2 * p_H2)\n",
    "    equations.append(d_AlCl  * p_AlCl  + \n",
    "                 2 * d_AlCl2 * p_AlCl2 + \n",
    "                 3 * d_AlCl3 * p_AlCl3 + \n",
    "                     d_HCl * (p_HCl - pg_HCl))\n",
    "    system = sm.Matrix(equations)\n",
    "    jacobian = system.jacobian(first_variables)\n",
    "    system = sm.lambdify(first_variables, system)\n",
    "    jacobian = sm.lambdify(first_variables, jacobian)\n",
    "    return system, jacobian, first_variables\n",
    "\n",
    "print('One of solutions:')\n",
    "system, jacobian, first_variables = first_make_system(T=350 + 273)\n",
    "dict(zip(first_variables, newton_solve(system, jacobian, first_variables)[0]))"
   ]
  },
  {
   "cell_type": "code",
   "execution_count": 6,
   "metadata": {
    "collapsed": false,
    "deletable": true,
    "editable": true
   },
   "outputs": [
    {
     "name": "stderr",
     "output_type": "stream",
     "text": [
      "100%|██████████| 60/60 [00:02<00:00, 22.55it/s]\n"
     ]
    }
   ],
   "source": [
    "# benchmark\n",
    "Ts = np.linspace(350, 650, 60) + 273\n",
    "nruns = 1\n",
    "sigma = 0.01\n",
    "p = first_calcPg('HCl') + first_calcPg('N2')\n",
    "first_newton_benchmark = pd.DataFrame(columns=['T_', 'V_Al', 'G_AlCl', 'G_AlCl2', 'G_AlCl3', \n",
    "                                         'rsa', 'rsa_std', 'nstep', 'nstep_std'])\n",
    "targets = ['AlCl', 'AlCl2', 'AlCl3']\n",
    "for k, T in tqdm(list(enumerate(Ts))):\n",
    "    sols = np.zeros((nruns, 5))\n",
    "    rsa = np.zeros(nruns)\n",
    "    nstep = np.zeros(nruns)\n",
    "    for i in range(nruns):\n",
    "        system, jacobian, first_variables = first_make_system(T=T)\n",
    "        sols[i], rsa[i], nstep[i] = newton_solve(system, jacobian, first_variables)\n",
    "    sol_std = sols.std(0)\n",
    "    solution = sols.mean(0)\n",
    "    rsa_std = rsa.std()\n",
    "    rsa = rsa.mean()\n",
    "    nstep_std = nstep.std()\n",
    "    nstep = nstep.mean()\n",
    "    # G_i\n",
    "    G = {}\n",
    "    Pe = dict(zip(map(str, first_variables), solution))\n",
    "    for Gas in targets:\n",
    "        G[Gas] = calcDGas(Gas, T, p) * (first_calcPg(Gas) - Pe['p_' + Gas]) / (R * T * sigma)\n",
    "    pho = 2712.0\n",
    "    mu = row_data.loc['Al'].mu\n",
    "    V = (G['AlCl'] + G['AlCl2'] + G['AlCl3']) * (mu / pho) * 1e9\n",
    "    first_newton_benchmark.loc[k] = {\n",
    "        'T_': T,\n",
    "        'V_Al': V,\n",
    "        'G_AlCl': G['AlCl'],\n",
    "        'G_AlCl2': G['AlCl2'],\n",
    "        'G_AlCl3': G['AlCl3'],\n",
    "        'rsa': rsa,\n",
    "        'rsa_std': rsa_std,\n",
    "        'nstep': nstep,\n",
    "        'nstep_std': nstep_std\n",
    "    }"
   ]
  },
  {
   "cell_type": "code",
   "execution_count": 7,
   "metadata": {
    "collapsed": false,
    "deletable": true,
    "editable": true
   },
   "outputs": [],
   "source": [
    "first_newton_benchmark['invT'] = 1 / first_newton_benchmark.T_\n",
    "first_newton_benchmark['V_Al_log'] = np.log(np.abs(first_newton_benchmark.V_Al))\n",
    "first_newton_benchmark['G_AlCl_log'] = np.log(np.abs(first_newton_benchmark.G_AlCl))\n",
    "first_newton_benchmark['G_AlCl2_log'] = np.log(np.abs(first_newton_benchmark.G_AlCl2))\n",
    "first_newton_benchmark['G_AlCl3_log'] = np.log(np.abs(first_newton_benchmark.G_AlCl3))\n",
    "first_newton_df = pd.melt(first_newton_benchmark[['invT', 'V_Al_log', 'G_AlCl_log', \n",
    "                                      'G_AlCl2_log', 'G_AlCl2_log', 'G_AlCl3_log']], id_vars=['invT'])"
   ]
  },
  {
   "cell_type": "code",
   "execution_count": 8,
   "metadata": {
    "collapsed": false,
    "deletable": true,
    "editable": true
   },
   "outputs": [
    {
     "data": {
      "image/png": "[encoded data removed]",
      "text/plain": [
       "<matplotlib.figure.Figure at 0x7f861e174128>"
      ]
     },
     "metadata": {},
     "output_type": "display_data"
    },
    {
     "data": {
      "text/plain": [
       "<ggplot: (-9223363273479329031)>"
      ]
     },
     "execution_count": 8,
     "metadata": {},
     "output_type": "execute_result"
    }
   ],
   "source": [
    "rcParams['figure.figsize'] = 10, 7\n",
    "(ggplot(aes(x = 'invT', y = 'value', color='variable'), first_newton_df) + \n",
    "    geom_line(size=2) + \n",
    "    ylab('log-scaled value') + \n",
    "    xlab('1/T') + theme_bw())"
   ]
  },
  {
   "cell_type": "code",
   "execution_count": 9,
   "metadata": {
    "collapsed": false,
    "deletable": true,
    "editable": true
   },
   "outputs": [
    {
     "data": {
      "image/png": "[encoded data removed]",
      "text/plain": [
       "<matplotlib.figure.Figure at 0x7f861dd5b6a0>"
      ]
     },
     "metadata": {},
     "output_type": "display_data"
    },
    {
     "data": {
      "text/plain": [
       "<ggplot: (-9223363273479570204)>"
      ]
     },
     "execution_count": 9,
     "metadata": {},
     "output_type": "execute_result"
    }
   ],
   "source": [
    "rcParams['figure.figsize'] = 12, 7\n",
    "(ggplot(aes(x = 'invT', y = 'value', color='variable'), first_newton_df) + \n",
    "    geom_line(size=2) + \n",
    "    ylab('log-scaled value') + \n",
    "    xlab('1/T') + theme_bw() + facet_wrap('variable', scales='free'))"
   ]
  },
  {
   "cell_type": "markdown",
   "metadata": {
    "deletable": true,
    "editable": true
   },
   "source": [
    "# Второе задание"
   ]
  },
  {
   "cell_type": "code",
   "execution_count": 10,
   "metadata": {
    "collapsed": false,
    "deletable": true,
    "editable": true
   },
   "outputs": [
    {
     "name": "stdout",
     "output_type": "stream",
     "text": [
      "One of solutions:\n"
     ]
    },
    {
     "data": {
      "text/plain": [
       "{p_GaCl: 12532.988039160515,\n",
       " p_GaCl2: 0.11747869230535114,\n",
       " p_HCl: 0.26069535783692055,\n",
       " p_GaCl3: -1.14076234300758e-05,\n",
       " p_H2: 1516.5397188412403}"
      ]
     },
     "execution_count": 10,
     "metadata": {},
     "output_type": "execute_result"
    }
   ],
   "source": [
    "def second_calcPg(ind):\n",
    "    if ind == 'GaCl' or ind == 'GaCl2' or ind == 'GaCl3' or ind == 'H2':\n",
    "        return 0\n",
    "    if ind == 'HCl':\n",
    "        return 10**4\n",
    "    if ind == 'N2':\n",
    "        return 9 * 10**4\n",
    "    raise Exception('Unexpected substance: ' + ind)\n",
    "\n",
    "def second_make_system(p=100000, T=(650.0 + 273.0)):\n",
    "    p_GaCl, p_GaCl2, p_GaCl3, p_HCl, p_H2 = second_variables = sm.symbols('p_GaCl, p_GaCl2, p_GaCl3, p_HCl, p_H2')\n",
    "    pg_HCl = 10**4\n",
    "    pg_N2 = 9 * 10**4\n",
    "    k4 = calcK4(T)\n",
    "    k5 = calcK5(T)\n",
    "    k6 = calcK6(T)\n",
    "    d_HCl = calcDGas('HCl', T, p)\n",
    "    d_H2 = calcDGas('H2', T, p)\n",
    "    d_GaCl = calcDGas('GaCl', T, p)\n",
    "    d_GaCl2 = calcDGas('GaCl2', T, p)\n",
    "    d_GaCl3 = calcDGas('GaCl3', T, p)\n",
    "    equations = []\n",
    "    equations.append(p_HCl ** 2 - k4 * p_GaCl ** 2 * p_H2)\n",
    "    equations.append(p_HCl ** 2 - k5 * p_GaCl2 * p_H2)\n",
    "    equations.append(p_HCl ** 6 - k6 * p_GaCl3 ** 2 * p_H2 ** 3)\n",
    "    equations.append(d_HCl * (p_HCl - pg_HCl) + 2 * d_H2 * p_H2)\n",
    "    equations.append(d_GaCl  * p_GaCl  + \n",
    "                 2 * d_GaCl2 * p_GaCl2 + \n",
    "                 3 * d_GaCl3 * p_GaCl3 + \n",
    "                     d_HCl * (p_HCl - pg_HCl))\n",
    "    system = sm.Matrix(equations)\n",
    "    jacobian = system.jacobian(second_variables)\n",
    "    system = sm.lambdify(second_variables, system)\n",
    "    jacobian = sm.lambdify(second_variables, jacobian)\n",
    "    return system, jacobian, second_variables\n",
    "\n",
    "print('One of solutions:')\n",
    "system, jacobian, second_variables = second_make_system(T=650.0 + 273)\n",
    "dict(zip(second_variables, newton_solve(system, jacobian, second_variables)[0]))"
   ]
  },
  {
   "cell_type": "code",
   "execution_count": 11,
   "metadata": {
    "collapsed": false,
    "deletable": true,
    "editable": true
   },
   "outputs": [
    {
     "name": "stderr",
     "output_type": "stream",
     "text": [
      "100%|██████████| 60/60 [00:02<00:00, 26.08it/s]\n"
     ]
    }
   ],
   "source": [
    "# benchmark\n",
    "Ts = np.linspace(650, 950, 60) + 273\n",
    "nruns = 1\n",
    "sigma = 0.01\n",
    "p = second_calcPg('HCl') + second_calcPg('N2')\n",
    "second_newton_benchmark = pd.DataFrame(columns=['T_', 'V_Ga', 'G_GaCl', 'G_GaCl2', 'G_GaCl3', \n",
    "                                             'rsa', 'rsa_std', 'nstep', 'nstep_std'])\n",
    "targets = ['GaCl', 'GaCl2', 'GaCl3']\n",
    "for k, T in tqdm(list(enumerate(Ts))):\n",
    "    sols = np.zeros((nruns, 5))\n",
    "    rsa = np.zeros(nruns)\n",
    "    nstep = np.zeros(nruns)\n",
    "    for i in range(nruns):\n",
    "        system, jacobian, second_variables = second_make_system(T=T)\n",
    "        sols[i], rsa[i], nstep[i] = newton_solve(system, jacobian, second_variables, epsilon=1e-9)\n",
    "    sol_std = sols.std(0)\n",
    "    solution = sols.mean(0)\n",
    "    rsa_std = rsa.std()\n",
    "    rsa = rsa.mean()\n",
    "    nstep_std = nstep.std()\n",
    "    nstep = nstep.mean()\n",
    "    # G_i\n",
    "    G = {}\n",
    "    Pe = dict(zip(map(str, second_variables), solution))\n",
    "    for Gas in targets:\n",
    "        G[Gas] = calcDGas(Gas, T, p) * (second_calcPg(Gas) - Pe['p_' + Gas]) / (R * T * sigma)\n",
    "    pho = 5900.\n",
    "    mu = row_data.loc['Ga'].mu\n",
    "    V = (G['GaCl'] + G['GaCl2'] + G['GaCl3']) * (mu / pho) * 1e9\n",
    "    second_newton_benchmark.loc[k] = {\n",
    "        'T_': T,\n",
    "        'V_Ga': V,\n",
    "        'G_GaCl': G['GaCl'],\n",
    "        'G_GaCl2': G['GaCl2'],\n",
    "        'G_GaCl3': G['GaCl3'],\n",
    "        'rsa': rsa,\n",
    "        'rsa_std': rsa_std,\n",
    "        'nstep': nstep,\n",
    "        'nstep_std': nstep_std\n",
    "    }"
   ]
  },
  {
   "cell_type": "code",
   "execution_count": 12,
   "metadata": {
    "collapsed": false,
    "deletable": true,
    "editable": true
   },
   "outputs": [],
   "source": [
    "second_newton_benchmark['invT'] = 1 / second_newton_benchmark.T_\n",
    "second_newton_benchmark['V_Ga_log'] = np.log(np.abs(second_newton_benchmark.V_Ga))\n",
    "\n",
    "second_newton_benchmark['G_GaCl_log'] = np.log(np.abs(second_newton_benchmark.G_GaCl))\n",
    "second_newton_benchmark['G_GaCl2_log'] = np.log(np.abs(second_newton_benchmark.G_GaCl2))\n",
    "second_newton_benchmark['G_GaCl3_log'] = np.log(np.abs(second_newton_benchmark.G_GaCl3))\n",
    "second_newton_df = pd.melt(second_newton_benchmark[['invT', 'V_Ga_log', 'G_GaCl_log', \n",
    "                                      'G_GaCl2_log', 'G_GaCl2_log', 'G_GaCl3_log']], id_vars=['invT'])"
   ]
  },
  {
   "cell_type": "code",
   "execution_count": 13,
   "metadata": {
    "collapsed": false,
    "deletable": true,
    "editable": true
   },
   "outputs": [
    {
     "data": {
      "image/png": "[encoded data removed]",
      "text/plain": [
       "<matplotlib.figure.Figure at 0x7f861d6c5c50>"
      ]
     },
     "metadata": {},
     "output_type": "display_data"
    },
    {
     "data": {
      "text/plain": [
       "<ggplot: (-9223363273480026673)>"
      ]
     },
     "execution_count": 13,
     "metadata": {},
     "output_type": "execute_result"
    }
   ],
   "source": [
    "rcParams['figure.figsize'] = 10, 7\n",
    "(ggplot(aes(x = 'invT', y = 'value', color='variable'), second_newton_df) + \n",
    "    geom_line(size=2) + \n",
    "    ylab('log-scaled value') + \n",
    "    xlab('1/T') + \n",
    "    theme_bw())"
   ]
  },
  {
   "cell_type": "code",
   "execution_count": 14,
   "metadata": {
    "collapsed": false,
    "deletable": true,
    "editable": true
   },
   "outputs": [
    {
     "data": {
      "image/png": "[encoded data removed]",
      "text/plain": [
       "<matplotlib.figure.Figure at 0x7f861d5676a0>"
      ]
     },
     "metadata": {},
     "output_type": "display_data"
    },
    {
     "data": {
      "text/plain": [
       "<ggplot: (-9223363273480112580)>"
      ]
     },
     "execution_count": 14,
     "metadata": {},
     "output_type": "execute_result"
    }
   ],
   "source": [
    "rcParams['figure.figsize'] = 12, 7\n",
    "(ggplot(aes(x = 'invT', y = 'value', color='variable'), second_newton_df) + \n",
    "    geom_line(size=2) + \n",
    "    ylab('log-scaled value') + \n",
    "    xlab('1/T') +\n",
    "    theme_bw() + \n",
    "    facet_wrap('variable', scales='free'))"
   ]
  },
  {
   "cell_type": "markdown",
   "metadata": {
    "collapsed": true,
    "deletable": true,
    "editable": true
   },
   "source": [
    "## Третье задание"
   ]
  },
  {
   "cell_type": "code",
   "execution_count": 15,
   "metadata": {
    "collapsed": true,
    "deletable": true,
    "editable": true
   },
   "outputs": [],
   "source": [
    "def third_make_system(xg, case=1):\n",
    "    \"\"\"\n",
    "    xg: in [0, 1]\n",
    "    case: 1 - clean N2\n",
    "          2 - 10% mix of H2 and N2\n",
    "    \"\"\"\n",
    "    p_AlCl3, p_GaCl, p_NH3, p_HCl, p_H2, x = variables = sm.symbols('p_AlCl3, p_GaCl, p_NH3, p_HCl, p_H2, x')\n",
    "    T = 1100 + 273\n",
    "    p_atm = 100000\n",
    "    p_AlGa = 30\n",
    "    pg_NH3 = 1500\n",
    "    pg_HCl = 0\n",
    "    if case == 1:\n",
    "        pg_H2 = 0\n",
    "        pg_N2 = 98470\n",
    "    elif case == 2:\n",
    "        pg_H2 = 9847\n",
    "        pg_N2 = 88623\n",
    "    else:\n",
    "        raise RuntimeError('ti pidor')\n",
    "    pg_AlCl3 = xg * p_AlGa\n",
    "    pg_GaCl = (1 - xg) * p_AlGa\n",
    "    k9 = calcK9(T)\n",
    "    k10 = calcK10(T)\n",
    "    d_HCl = calcDGas('HCl', T, p_atm)\n",
    "    d_H2 = calcDGas('H2', T, p_atm)\n",
    "    d_NH3 = calcDGas('NH3', T, p_atm)\n",
    "    d_AlCl3 = calcDGas('AlCl3', T, p_atm)\n",
    "    d_GaCl = calcDGas('GaCl', T, p_atm)\n",
    "    d_HCl = calcDGas('HCl', T, p_atm)\n",
    "    equations = []\n",
    "    equations.append(p_AlCl3 * p_NH3 - k9  * x * p_HCl ** 3)\n",
    "    equations.append(p_GaCl  * p_NH3 - k10 * (1 - x) * p_HCl * p_H2)\n",
    "    equations.append(d_HCl * (pg_HCl - p_HCl) +\n",
    "                 2 * d_H2  * (pg_H2  - p_H2 ) +\n",
    "                 3 * d_NH3 * (pg_NH3 - p_NH3))\n",
    "    equations.append(3 * d_AlCl3 * (pg_AlCl3 - p_AlCl3) +\n",
    "                         d_GaCl  * (pg_GaCl  - p_GaCl ) +\n",
    "                         d_HCl   * (pg_HCl   - p_HCl  ))\n",
    "    equations.append(d_AlCl3 * (pg_AlCl3 - p_AlCl3) +\n",
    "                     d_GaCl  * (pg_GaCl  - p_GaCl)  -\n",
    "                     d_NH3   * (pg_NH3   - p_NH3))\n",
    "    equations.append(d_AlCl3 * (pg_AlCl3 - p_AlCl3) * (1 - x) -\n",
    "                     d_GaCl  * (pg_GaCl  - p_GaCl)  * x)\n",
    "    system = sm.Matrix(equations)\n",
    "    jacobian = system.jacobian(variables)\n",
    "    system = sm.lambdify(variables, system)\n",
    "    jacobian = sm.lambdify(variables, jacobian)\n",
    "    return system, jacobian, variables"
   ]
  },
  {
   "cell_type": "code",
   "execution_count": 16,
   "metadata": {
    "collapsed": false,
    "deletable": true,
    "editable": true
   },
   "outputs": [
    {
     "name": "stdout",
     "output_type": "stream",
     "text": [
      "One of solutions:\n"
     ]
    },
    {
     "data": {
      "text/plain": [
       "{p_NH3: 1479.9833967834718,\n",
       " p_HCl: 46.191695201399895,\n",
       " p_GaCl: 0.034176403459166664,\n",
       " p_AlCl3: 4.1979740199008028e-07,\n",
       " x: 0.48879174252738827,\n",
       " p_H2: 3.6217797931391846}"
      ]
     },
     "execution_count": 16,
     "metadata": {},
     "output_type": "execute_result"
    }
   ],
   "source": [
    "print('One of solutions:')\n",
    "system, jacobian, variables = third_make_system(0.5, case=1)\n",
    "s = newton_solve(system, jacobian, variables)\n",
    "dict(zip(variables, s[0]))"
   ]
  },
  {
   "cell_type": "code",
   "execution_count": 17,
   "metadata": {
    "collapsed": false
   },
   "outputs": [
    {
     "data": {
      "text/plain": [
       "array([[ -1.08420217e-19],\n",
       "       [  0.00000000e+00],\n",
       "       [ -8.32667268e-17],\n",
       "       [  0.00000000e+00],\n",
       "       [ -3.60090647e-16],\n",
       "       [ -3.46944695e-18]])"
      ]
     },
     "execution_count": 17,
     "metadata": {},
     "output_type": "execute_result"
    }
   ],
   "source": [
    "system(*s[0])"
   ]
  },
  {
   "cell_type": "code",
   "execution_count": 20,
   "metadata": {
    "collapsed": false,
    "deletable": true,
    "editable": true
   },
   "outputs": [
    {
     "name": "stderr",
     "output_type": "stream",
     "text": [
      "100%|██████████| 120/120 [00:16<00:00,  7.38it/s]\n"
     ]
    }
   ],
   "source": [
    "# benchmark\n",
    "xgs = np.linspace(0., 1., 60)\n",
    "cases = [1, 2]\n",
    "nruns = 1\n",
    "sigma = 0.01\n",
    "p = 100000\n",
    "T = 1100 + 273\n",
    "third_newton_benchmark = pd.DataFrame(columns=['xg', 'case', 'x', 'V_AlGaN', 'G_GaCl', 'G_AlCl3'])\n",
    "targets = ['GaCl', 'AlCl3']\n",
    "for k, (xg, case) in tqdm(list(enumerate(product(xgs, cases)))):\n",
    "    sols = np.zeros((nruns, 6))\n",
    "    rsa = np.zeros(nruns)\n",
    "    nstep = np.zeros(nruns)\n",
    "    for i in range(nruns):\n",
    "        x = 2\n",
    "        while x < 0 or x > 1:\n",
    "            system, jacobian, variables = third_make_system(xg, case)\n",
    "            sols[i], rsa[i], nstep[i] = newton_solve(system, jacobian, variables, epsilon=1e-8)\n",
    "            x = sols[i][-1]\n",
    "    sol_std = sols.std(0)\n",
    "    solution = sols.mean(0)\n",
    "    rsa_std = rsa.std()\n",
    "    rsa = rsa.mean()\n",
    "    nstep_std = nstep.std()\n",
    "    nstep = nstep.mean()\n",
    "    # G_i\n",
    "    G = {}\n",
    "    p_AlGa = 30\n",
    "    Pg = {\n",
    "        'GaCl': (1 - xg) * p_AlGa,\n",
    "        'AlCl3': xg * p_AlGa \n",
    "    }\n",
    "    Pe = dict(zip(map(str, variables), solution))\n",
    "    for Gas in targets:\n",
    "        G[Gas] = calcDGas(Gas, T, p) * (Pg[Gas] - Pe['p_' + Gas]) / (R * T * sigma)\n",
    "    rho_AlN = 3260.\n",
    "    rho_GaN = 615.\n",
    "    mu_AlN = row_data.loc['AlN'].mu\n",
    "    mu_GaN = row_data.loc['GaN'].mu\n",
    "    V = (G['AlCl3'] * (mu_AlN / rho_AlN) + G['GaCl'] * (mu_GaN / rho_AlN)) * 1e9\n",
    "    if V > 100000:\n",
    "        continue\n",
    "    third_newton_benchmark.loc[k] = {\n",
    "        'xg': xg,\n",
    "        'case': case,\n",
    "        'x': Pe['x'],\n",
    "        'V_AlGaN': V,\n",
    "        'G_GaCl': G['GaCl'],\n",
    "        'G_AlCl3': G['AlCl3'],\n",
    "    }"
   ]
  },
  {
   "cell_type": "code",
   "execution_count": 21,
   "metadata": {
    "collapsed": false,
    "deletable": true,
    "editable": true
   },
   "outputs": [],
   "source": [
    "third = pd.melt(third_newton_benchmark, id_vars=['xg', 'case'])"
   ]
  },
  {
   "cell_type": "code",
   "execution_count": 22,
   "metadata": {
    "collapsed": false
   },
   "outputs": [],
   "source": [
    "third.case = third.case.map(str)"
   ]
  },
  {
   "cell_type": "code",
   "execution_count": null,
   "metadata": {
    "collapsed": false,
    "deletable": true,
    "editable": true
   },
   "outputs": [],
   "source": [
    "rcParams['figure.figsize'] = 20, 8\n",
    "(ggplot(aes(y='value', x='xg', color='variable'), data=third) + theme_bw() + \n",
    "     geom_line() + facet_wrap('case', 'variable', scales='free'))"
   ]
  },
  {
   "cell_type": "code",
   "execution_count": null,
   "metadata": {
    "collapsed": true,
    "deletable": true,
    "editable": true
   },
   "outputs": [],
   "source": []
  }
 ],
 "metadata": {
  "kernelspec": {
   "display_name": "Python 3",
   "language": "python",
   "name": "python3"
  },
  "language_info": {
   "codemirror_mode": {
    "name": "ipython",
    "version": 3
   },
   "file_extension": ".py",
   "mimetype": "text/x-python",
   "name": "python",
   "nbconvert_exporter": "python",
   "pygments_lexer": "ipython3",
   "version": "3.5.2+"
  }
 },
 "nbformat": 4,
 "nbformat_minor": 2
}
