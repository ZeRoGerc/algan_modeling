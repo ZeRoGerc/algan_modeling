{
 "cells": [
  {
   "cell_type": "markdown",
   "metadata": {
    "deletable": true,
    "editable": true
   },
   "source": [
    "# Моделирование роста монокристаллического твердого раствора $Al_xGa_{1-x}N$ методом хлоридной эпитаксии\n"
   ]
  },
  {
   "cell_type": "markdown",
   "metadata": {
    "deletable": true,
    "editable": true
   },
   "source": [
    "## Сазанович Владислав М3339"
   ]
  },
  {
   "cell_type": "code",
   "execution_count": null,
   "metadata": {
    "collapsed": false,
    "deletable": true,
    "editable": true
   },
   "outputs": [],
   "source": [
    "import numpy as np\n",
    "import pandas as pd\n",
    "import scipy as sp\n",
    "import scipy.linalg\n",
    "import sympy as sm\n",
    "from tqdm import tqdm\n",
    "from ggplot import *"
   ]
  },
  {
   "cell_type": "code",
   "execution_count": null,
   "metadata": {
    "collapsed": true,
    "deletable": true,
    "editable": true
   },
   "outputs": [],
   "source": [
    "# Для тестов\n",
    "def is_close(a, b, rel_tol=1e-06, abs_tol=0.0):\n",
    "    return abs(a-b) <= max(rel_tol * max(abs(a), abs(b)), abs_tol)"
   ]
  },
  {
   "cell_type": "code",
   "execution_count": null,
   "metadata": {
    "collapsed": false,
    "deletable": true,
    "editable": true
   },
   "outputs": [],
   "source": [
    "row_data = pd.read_csv('q.csv', sep=';', \n",
    "                       index_col=False, \n",
    "                       names=[\"\", \"Phase\", \"T1\", \"T2\", \"H\", \"f1\", \"f2\", \"f3\", \"f4\", \"f5\", \"f6\", \"f7\", \n",
    "                              \"mu\", \"sigma\", \"epsil\", \"Comment\"])\n",
    "row_data.set_index('', inplace = True)\n",
    "row_data"
   ]
  },
  {
   "cell_type": "markdown",
   "metadata": {
    "deletable": true,
    "editable": true
   },
   "source": [
    "Так можно брать данные из строчки по имени:"
   ]
  },
  {
   "cell_type": "code",
   "execution_count": null,
   "metadata": {
    "collapsed": false,
    "deletable": true,
    "editable": true
   },
   "outputs": [],
   "source": [
    "print(row_data.loc['AlCl'].f1)"
   ]
  },
  {
   "cell_type": "code",
   "execution_count": null,
   "metadata": {
    "collapsed": true,
    "deletable": true,
    "editable": true
   },
   "outputs": [],
   "source": [
    "# Constants\n",
    "R = 8314 # Дж/(кмоль*К)\n",
    "\n",
    "# Распределение веществ по твердым, жидким и газообазным\n",
    "solid = {'Al', 'AlN', 'GaN'}\n",
    "liquid = {'Ga'}\n",
    "gas = {'AlCl', 'AlCl2', 'AlCl3', 'GaCl', 'GaCl2', 'GaCl3', 'NH3', 'H2', 'HCl', 'N2'}"
   ]
  },
  {
   "cell_type": "code",
   "execution_count": null,
   "metadata": {
    "collapsed": false,
    "deletable": true,
    "editable": true
   },
   "outputs": [],
   "source": [
    "\"\"\" Коэффициенты диффузии (м2/сек) для газообразных компонент\n",
    "ind - 'AlCl', 'GaN, ... \n",
    "t - температура в К\n",
    "p - полное давление в системе\n",
    "\"\"\"\n",
    "def calcDGas(ind, t, p):\n",
    "    assert (ind in gas), \"This function could caclulate D only for gaseous substance\"\n",
    "    \n",
    "    numerator = 2.628 * 10**(-2) * t**(3/2)\n",
    "    \n",
    "    d_ind = row_data.loc[ind]\n",
    "    d_N2 = row_data.loc['N2']\n",
    "    \n",
    "    sigma = (d_ind.sigma + d_N2.sigma) / 2\n",
    "    epsil = (d_ind.epsil * d_N2.epsil)**(1/2)\n",
    "    mu = (2 * d_ind.mu * d_N2.mu) / (d_ind.mu + d_N2.mu)\n",
    "    omega = 1.074 * (t / epsil)**(-0.1604)\n",
    "    \n",
    "    return numerator / (p * omega * mu**(1/2))\n",
    "\n",
    "\n",
    "\"\"\"\n",
    "Φ для расчета энергии Гиббса\n",
    "ind - 'AlCl', 'GaN, ... \n",
    "t - температура в К\n",
    "\"\"\"\n",
    "def calcPhi(ind, t):\n",
    "    data = row_data.loc[ind]\n",
    "    x = t / 10**4\n",
    "    \n",
    "    return data.f1 + data.f2 * np.log(x) + data.f3 / x**2 + data.f4 / x + data.f5 * x + data.f6 * x**2 + data.f7 * x**3\n",
    "   \n",
    "    \n",
    "\"\"\"\n",
    "Энергия Гиббса\n",
    "ind - 'AlCl', 'GaN, ... \n",
    "t - температура в К\n",
    "\"\"\"\n",
    "def calcG(ind, t):\n",
    "    data = row_data.loc[ind]\n",
    "    return data.H - calcPhi(ind, t) * t\n",
    "\n",
    "Pa = 100000 # атмосферное давление\n",
    "\n",
    "\n",
    "def calcK1(t):\n",
    "    deltaG1 = 2 * calcG('Al', t) + 2 * calcG('HCl', t) - 2 * calcG('AlCl', t) - calcG('H2', t)\n",
    "    return np.exp(-deltaG1 / (R * t)) / Pa\n",
    "\n",
    "\n",
    "def calcK2(t):\n",
    "    deltaG2 = calcG('Al', t) + 2 * calcG('HCl', t) - calcG('AlCl2', t) - calcG('H2', t)\n",
    "    return np.exp(-deltaG2 / (R * t))\n",
    "\n",
    "\n",
    "def calcK3(t):\n",
    "    deltaG3 = calcG('Al', t) - 2 * calcG('AlCl3', t) - 3 * calcG('H2', t) + 6 * calcG('HCl', t)\n",
    "    return np.exp(-deltaG3 / (R * t)) * Pa"
   ]
  },
  {
   "cell_type": "markdown",
   "metadata": {
    "deletable": true,
    "editable": true
   },
   "source": [
    "# Первое задание"
   ]
  },
  {
   "cell_type": "code",
   "execution_count": null,
   "metadata": {
    "collapsed": false,
    "deletable": true,
    "editable": true
   },
   "outputs": [],
   "source": [
    "\"\"\"\n",
    "Парциальные давления компонент вне диффузионного пограничного слоя (Па)\n",
    "PS Даны в условии поэтому дефайним только для этого задания\n",
    "ind - 'AlCl', 'GaN, ... \n",
    "\"\"\"\n",
    "def calcPg(ind):\n",
    "    if ind == 'AlCl' or ind == 'AlCl2' or ind == 'AlCl3' or ind == 'H2':\n",
    "        return 0\n",
    "    if ind == 'HCl':\n",
    "        return 10000\n",
    "    if ind == 'N2':\n",
    "        return 90000\n",
    "    raise Exception('Unexpected substance: ' + ind)\n",
    "\n",
    "\n",
    "def first_task():\n",
    "    P = 100000 # Па\n",
    "    print(calcDGas('AlCl', 400, P))\n",
    "    \n",
    "# просто проверить что работает\n",
    "first_task()\n",
    "calcK1(100)\n",
    "calcK2(100)\n",
    "calcK3(100)\n",
    "calcPg('AlCl')\n",
    "calcPg('HCl')\n",
    "calcPg('N2')"
   ]
  },
  {
   "cell_type": "code",
   "execution_count": null,
   "metadata": {
    "collapsed": true,
    "deletable": true,
    "editable": true
   },
   "outputs": [],
   "source": [
    "def make_system(pg_HCl=10000.0, p=100000, T=(350.0 + 273.0)):\n",
    "    p_AlCl, p_AlCl2, p_AlCl3, p_HCl, p_H2 = variables = sm.symbols('p_AlCl, p_AlCl2, p_AlCl3, p_HCl, p_H2')\n",
    "    k1 = calcK1(T)\n",
    "    k2 = calcK2(T)\n",
    "    k3 = calcK3(T)\n",
    "    d_HCl = calcDGas('HCl', T, p)\n",
    "    d_H2 = calcDGas('H2', T, p)\n",
    "    d_AlCl = calcDGas('AlCl', T, p)\n",
    "    d_AlCl2 = calcDGas('AlCl2', T, p)\n",
    "    d_AlCl3 = calcDGas('AlCl3', T, p)\n",
    "    equations = []\n",
    "    equations.append(p_HCl ** 2 - k1 * p_AlCl ** 2 * p_H2)\n",
    "    equations.append(p_HCl ** 2 - k2 * p_AlCl2 * p_H2)\n",
    "    equations.append(p_HCl ** 6 - k3 * p_AlCl3 ** 2 * p_H2 ** 3)\n",
    "    equations.append(d_HCl * p_HCl + 2 * d_H2 * p_H2)\n",
    "    equations.append(d_AlCl  * p_AlCl  + \n",
    "                 2 * d_AlCl2 * p_AlCl2 + \n",
    "                 3 * d_AlCl3 * p_AlCl3 + \n",
    "                     d_HCl * (p_HCl - pg_HCl))\n",
    "    system = sm.Matrix(equations)\n",
    "    jacobian = system.jacobian(variables)\n",
    "    system = sm.lambdify(variables, system)\n",
    "    jacobian = sm.lambdify(variables, jacobian)\n",
    "    return system, jacobian, variables"
   ]
  },
  {
   "cell_type": "code",
   "execution_count": null,
   "metadata": {
    "collapsed": false,
    "deletable": true,
    "editable": true
   },
   "outputs": [],
   "source": [
    "def newton_solve(T, epsilon=1e-12):\n",
    "    system, jacobian, variables = make_system(T=T)\n",
    "    # TODO: think about gaussian std\n",
    "    x = np.random.normal(0., 1., 5).tolist()\n",
    "    delta = 1\n",
    "    nstep = 0\n",
    "    while np.linalg.norm(delta) > epsilon:\n",
    "        delta = sp.linalg.lu_solve(sp.linalg.lu_factor(jacobian(*x)), -system(*x))\n",
    "        x = delta.flatten() + x\n",
    "        nstep += 1\n",
    "    # evaluate error: residual sum of absulute values F(x)\n",
    "    rsa = np.abs(system(*x.tolist())).sum()\n",
    "    return x, rsa, nstep"
   ]
  },
  {
   "cell_type": "code",
   "execution_count": null,
   "metadata": {
    "collapsed": false,
    "deletable": true,
    "editable": true
   },
   "outputs": [],
   "source": [
    "print('One of solutions:')\n",
    "system, jacobian, variables = make_system(350 + 273)\n",
    "dict(zip(variables, newton_solve(350 + 273)[0]))"
   ]
  },
  {
   "cell_type": "code",
   "execution_count": null,
   "metadata": {
    "collapsed": false,
    "deletable": true,
    "editable": true
   },
   "outputs": [],
   "source": [
    "# benchmark\n",
    "Ts = np.linspace(350, 650, 60) + 273\n",
    "nruns = 10\n",
    "sigma = 0.01\n",
    "p = calcPg('HCl') + calcPg('N2')\n",
    "newton_benchmark = pd.DataFrame(columns=['T_', 'V_Al', 'G_AlCl', 'G_AlCl2', 'G_AlCl3', \n",
    "                                         'rsa', 'rsa_std', 'nstep', 'nstep_std'])\n",
    "targets = ['AlCl', 'AlCl2', 'AlCl3']\n",
    "for k, T in tqdm(list(enumerate(Ts))):\n",
    "    sols = np.zeros((nruns, 5))\n",
    "    rsa = np.zeros(nruns)\n",
    "    nstep = np.zeros(nruns)\n",
    "    for i in range(nruns):\n",
    "        sols[i], rsa[i], nstep[i] = newton_solve(T)\n",
    "    sol_std = sols.std(0)\n",
    "    solution = sols.mean(0)\n",
    "    rsa_std = rsa.std()\n",
    "    rsa = rsa.mean()\n",
    "    nstep_std = nstep.std()\n",
    "    nstep = nstep.mean()\n",
    "    # G_i\n",
    "    G = {}\n",
    "    Pe = dict(zip(map(str, variables), solution))\n",
    "    for Gas in targets:\n",
    "        G[Gas] = calcDGas(Gas, T, p) * (calcPg(Gas) - Pe['p_' + Gas]) / (R * T * sigma)\n",
    "    pho = 2712.0\n",
    "    mu = row_data.loc['Al'].mu\n",
    "    V = (G['AlCl'] + G['AlCl2'] + G['AlCl3']) * (mu / pho) * 1e9\n",
    "    newton_benchmark.loc[k] = {\n",
    "        'T_': T,\n",
    "        'V_Al': V,\n",
    "        'G_AlCl': G['AlCl'],\n",
    "        'G_AlCl2': G['AlCl2'],\n",
    "        'G_AlCl3': G['AlCl3'],\n",
    "        'rsa': rsa,\n",
    "        'rsa_std': rsa_std,\n",
    "        'nstep': nstep,\n",
    "        'nstep_std': nstep_std\n",
    "    }"
   ]
  },
  {
   "cell_type": "code",
   "execution_count": null,
   "metadata": {
    "collapsed": false,
    "deletable": true,
    "editable": true
   },
   "outputs": [],
   "source": [
    "newton_benchmark"
   ]
  },
  {
   "cell_type": "code",
   "execution_count": null,
   "metadata": {
    "collapsed": false,
    "deletable": true,
    "editable": true
   },
   "outputs": [],
   "source": [
    "newton_benchmark['invT'] = 1 / newton_benchmark.T_\n",
    "newton_benchmark['V_Al_log'] = np.log(np.abs(newton_benchmark.V_Al))\n",
    "newton_benchmark['G_AlCl_log'] = np.log(np.abs(newton_benchmark.G_AlCl))\n",
    "newton_benchmark['G_AlCl2_log'] = np.log(np.abs(newton_benchmark.G_AlCl2))\n",
    "newton_benchmark['G_AlCl3_log'] = np.log(np.abs(newton_benchmark.G_AlCl3))\n",
    "newton_df = pd.melt(newton_benchmark[['invT', 'V_Al_log', 'G_AlCl_log', \n",
    "                                      'G_AlCl2_log', 'G_AlCl2_log', 'G_AlCl3_log']], id_vars=['invT'])"
   ]
  },
  {
   "cell_type": "code",
   "execution_count": null,
   "metadata": {
    "collapsed": false,
    "deletable": true,
    "editable": true
   },
   "outputs": [],
   "source": [
    "ggplot(aes(x = 'invT', y = 'value'), newton_df) + \\\n",
    "    geom_line(size=2, color='red') + \\\n",
    "    stat_smooth(method='lm', color='blue') + \\\n",
    "    facet_wrap('variable', scales='free')"
   ]
  }
 ],
 "metadata": {
  "kernelspec": {
   "display_name": "Python 3",
   "language": "python",
   "name": "python3"
  },
  "language_info": {
   "codemirror_mode": {
    "name": "ipython",
    "version": 3
   },
   "file_extension": ".py",
   "mimetype": "text/x-python",
   "name": "python",
   "nbconvert_exporter": "python",
   "pygments_lexer": "ipython3",
   "version": "3.5.2+"
  }
 },
 "nbformat": 4,
 "nbformat_minor": 2
}
